{
 "cells": [
  {
   "cell_type": "markdown",
   "id": "prescribed-pressing",
   "metadata": {},
   "source": [
    "# Finding a relationship between the category of products and reviews of customers"
   ]
  },
  {
   "cell_type": "code",
   "execution_count": 17,
   "id": "african-leonard",
   "metadata": {},
   "outputs": [],
   "source": [
    "import pandas as pd\n",
    "import seaborn as sns\n",
    "import numpy as np\n",
    "import matplotlib.pyplot as plt"
   ]
  },
  {
   "cell_type": "code",
   "execution_count": 18,
   "id": "built-italic",
   "metadata": {},
   "outputs": [],
   "source": [
    "df_reviews = pd.read_csv('../data/olist_order_reviews_dataset.csv')\n",
    "df_orders = pd.read_csv('../data/olist_orders_dataset.csv')\n",
    "df_items = pd.read_csv('../data/olist_order_items_dataset.csv')\n",
    "df_products = pd.read_csv('../data/olist_products_dataset.csv')"
   ]
  },
  {
   "cell_type": "code",
   "execution_count": 46,
   "id": "fuzzy-nebraska",
   "metadata": {},
   "outputs": [
    {
     "data": {
      "text/plain": [
       "review_id                  object\n",
       "order_id                   object\n",
       "review_score                int64\n",
       "review_comment_title       object\n",
       "review_comment_message     object\n",
       "review_creation_date       object\n",
       "review_answer_timestamp    object\n",
       "dtype: object"
      ]
     },
     "execution_count": 46,
     "metadata": {},
     "output_type": "execute_result"
    }
   ],
   "source": [
    "df_reviews.dtypes"
   ]
  },
  {
   "cell_type": "code",
   "execution_count": 47,
   "id": "therapeutic-petersburg",
   "metadata": {},
   "outputs": [
    {
     "data": {
      "text/plain": [
       "order_id                         object\n",
       "customer_id                      object\n",
       "order_status                     object\n",
       "order_purchase_timestamp         object\n",
       "order_approved_at                object\n",
       "order_delivered_carrier_date     object\n",
       "order_delivered_customer_date    object\n",
       "order_estimated_delivery_date    object\n",
       "dtype: object"
      ]
     },
     "execution_count": 47,
     "metadata": {},
     "output_type": "execute_result"
    }
   ],
   "source": [
    "df_orders.dtypes"
   ]
  },
  {
   "cell_type": "code",
   "execution_count": 49,
   "id": "improved-honor",
   "metadata": {},
   "outputs": [
    {
     "data": {
      "text/plain": [
       "order_id                object\n",
       "order_item_id            int64\n",
       "product_id              object\n",
       "seller_id               object\n",
       "shipping_limit_date     object\n",
       "price                  float64\n",
       "freight_value          float64\n",
       "dtype: object"
      ]
     },
     "execution_count": 49,
     "metadata": {},
     "output_type": "execute_result"
    }
   ],
   "source": [
    "df_items.dtypes"
   ]
  },
  {
   "cell_type": "code",
   "execution_count": 52,
   "id": "declared-desktop",
   "metadata": {},
   "outputs": [
    {
     "data": {
      "text/plain": [
       "product_id                     object\n",
       "product_category_name          object\n",
       "product_name_lenght           float64\n",
       "product_description_lenght    float64\n",
       "product_photos_qty            float64\n",
       "product_weight_g              float64\n",
       "product_length_cm             float64\n",
       "product_height_cm             float64\n",
       "product_width_cm              float64\n",
       "dtype: object"
      ]
     },
     "execution_count": 52,
     "metadata": {},
     "output_type": "execute_result"
    }
   ],
   "source": [
    "df_products.dtypes"
   ]
  },
  {
   "cell_type": "code",
   "execution_count": 91,
   "id": "conceptual-northwest",
   "metadata": {},
   "outputs": [
    {
     "data": {
      "text/html": [
       "<div>\n",
       "<style scoped>\n",
       "    .dataframe tbody tr th:only-of-type {\n",
       "        vertical-align: middle;\n",
       "    }\n",
       "\n",
       "    .dataframe tbody tr th {\n",
       "        vertical-align: top;\n",
       "    }\n",
       "\n",
       "    .dataframe thead th {\n",
       "        text-align: right;\n",
       "    }\n",
       "</style>\n",
       "<table border=\"1\" class=\"dataframe\">\n",
       "  <thead>\n",
       "    <tr style=\"text-align: right;\">\n",
       "      <th></th>\n",
       "      <th>order_id</th>\n",
       "      <th>review_score</th>\n",
       "      <th>product_id</th>\n",
       "      <th>price</th>\n",
       "      <th>product_category_name</th>\n",
       "    </tr>\n",
       "  </thead>\n",
       "  <tbody>\n",
       "    <tr>\n",
       "      <th>0</th>\n",
       "      <td>73fc7af87114b39712e6da79b0a377eb</td>\n",
       "      <td>4</td>\n",
       "      <td>fd25ab760bfbba13c198fa3b4f1a0cd3</td>\n",
       "      <td>185.00</td>\n",
       "      <td>esporte_lazer</td>\n",
       "    </tr>\n",
       "    <tr>\n",
       "      <th>1</th>\n",
       "      <td>a548910a1c6147796b98fdf73dbeba33</td>\n",
       "      <td>5</td>\n",
       "      <td>be0dbdc3d67d55727a65d4cd696ca73c</td>\n",
       "      <td>79.79</td>\n",
       "      <td>informatica_acessorios</td>\n",
       "    </tr>\n",
       "    <tr>\n",
       "      <th>2</th>\n",
       "      <td>f9e4b658b201a9f2ecdecbb34bed034b</td>\n",
       "      <td>5</td>\n",
       "      <td>d1c427060a0f73f6b889a5c7c61f2ac4</td>\n",
       "      <td>149.00</td>\n",
       "      <td>informatica_acessorios</td>\n",
       "    </tr>\n",
       "    <tr>\n",
       "      <th>3</th>\n",
       "      <td>658677c97b385a9be170737859d3511b</td>\n",
       "      <td>5</td>\n",
       "      <td>52c80cedd4e90108bf4fa6a206ef6b03</td>\n",
       "      <td>179.99</td>\n",
       "      <td>ferramentas_jardim</td>\n",
       "    </tr>\n",
       "    <tr>\n",
       "      <th>4</th>\n",
       "      <td>8e6bfb81e283fa7e4f11123a3fb894f1</td>\n",
       "      <td>5</td>\n",
       "      <td>3880d25d502b15b1de6fddc42ad1d67a</td>\n",
       "      <td>1199.00</td>\n",
       "      <td>esporte_lazer</td>\n",
       "    </tr>\n",
       "  </tbody>\n",
       "</table>\n",
       "</div>"
      ],
      "text/plain": [
       "                           order_id  review_score  \\\n",
       "0  73fc7af87114b39712e6da79b0a377eb             4   \n",
       "1  a548910a1c6147796b98fdf73dbeba33             5   \n",
       "2  f9e4b658b201a9f2ecdecbb34bed034b             5   \n",
       "3  658677c97b385a9be170737859d3511b             5   \n",
       "4  8e6bfb81e283fa7e4f11123a3fb894f1             5   \n",
       "\n",
       "                         product_id    price   product_category_name  \n",
       "0  fd25ab760bfbba13c198fa3b4f1a0cd3   185.00           esporte_lazer  \n",
       "1  be0dbdc3d67d55727a65d4cd696ca73c    79.79  informatica_acessorios  \n",
       "2  d1c427060a0f73f6b889a5c7c61f2ac4   149.00  informatica_acessorios  \n",
       "3  52c80cedd4e90108bf4fa6a206ef6b03   179.99      ferramentas_jardim  \n",
       "4  3880d25d502b15b1de6fddc42ad1d67a  1199.00           esporte_lazer  "
      ]
     },
     "execution_count": 91,
     "metadata": {},
     "output_type": "execute_result"
    }
   ],
   "source": [
    "df = df_reviews[['order_id','review_score']].merge(df_orders[['order_id']], on='order_id', how='left').merge(df_items[['order_id','product_id','price']], on='order_id', how='left').merge(df_products[['product_id','product_category_name']], on='product_id', how='left')\n",
    "\n",
    "# CLEAN DATA\n",
    "# Drop duplicate orders with same order_id\n",
    "df = df.drop_duplicates(subset = 'order_id', ignore_index = True) \n",
    "# Get rid of products without category\n",
    "df = df.dropna(axis=0, how='any')\n",
    "df.head()"
   ]
  },
  {
   "cell_type": "markdown",
   "id": "small-killer",
   "metadata": {},
   "source": [
    "# To check which category has the highest and lowest average review score"
   ]
  },
  {
   "cell_type": "code",
   "execution_count": 97,
   "id": "proved-visibility",
   "metadata": {},
   "outputs": [
    {
     "data": {
      "text/html": [
       "<div>\n",
       "<style scoped>\n",
       "    .dataframe tbody tr th:only-of-type {\n",
       "        vertical-align: middle;\n",
       "    }\n",
       "\n",
       "    .dataframe tbody tr th {\n",
       "        vertical-align: top;\n",
       "    }\n",
       "\n",
       "    .dataframe thead th {\n",
       "        text-align: right;\n",
       "    }\n",
       "</style>\n",
       "<table border=\"1\" class=\"dataframe\">\n",
       "  <thead>\n",
       "    <tr style=\"text-align: right;\">\n",
       "      <th></th>\n",
       "      <th>review_score</th>\n",
       "    </tr>\n",
       "    <tr>\n",
       "      <th>product_category_name</th>\n",
       "      <th></th>\n",
       "    </tr>\n",
       "  </thead>\n",
       "  <tbody>\n",
       "    <tr>\n",
       "      <th>agro_industria_e_comercio</th>\n",
       "      <td>5</td>\n",
       "    </tr>\n",
       "    <tr>\n",
       "      <th>agro_industria_e_comercio</th>\n",
       "      <td>4</td>\n",
       "    </tr>\n",
       "    <tr>\n",
       "      <th>agro_industria_e_comercio</th>\n",
       "      <td>1</td>\n",
       "    </tr>\n",
       "    <tr>\n",
       "      <th>agro_industria_e_comercio</th>\n",
       "      <td>5</td>\n",
       "    </tr>\n",
       "    <tr>\n",
       "      <th>agro_industria_e_comercio</th>\n",
       "      <td>4</td>\n",
       "    </tr>\n",
       "    <tr>\n",
       "      <th>...</th>\n",
       "      <td>...</td>\n",
       "    </tr>\n",
       "    <tr>\n",
       "      <th>utilidades_domesticas</th>\n",
       "      <td>5</td>\n",
       "    </tr>\n",
       "    <tr>\n",
       "      <th>utilidades_domesticas</th>\n",
       "      <td>4</td>\n",
       "    </tr>\n",
       "    <tr>\n",
       "      <th>utilidades_domesticas</th>\n",
       "      <td>4</td>\n",
       "    </tr>\n",
       "    <tr>\n",
       "      <th>utilidades_domesticas</th>\n",
       "      <td>5</td>\n",
       "    </tr>\n",
       "    <tr>\n",
       "      <th>utilidades_domesticas</th>\n",
       "      <td>5</td>\n",
       "    </tr>\n",
       "  </tbody>\n",
       "</table>\n",
       "<p>97250 rows × 1 columns</p>\n",
       "</div>"
      ],
      "text/plain": [
       "                           review_score\n",
       "product_category_name                  \n",
       "agro_industria_e_comercio             5\n",
       "agro_industria_e_comercio             4\n",
       "agro_industria_e_comercio             1\n",
       "agro_industria_e_comercio             5\n",
       "agro_industria_e_comercio             4\n",
       "...                                 ...\n",
       "utilidades_domesticas                 5\n",
       "utilidades_domesticas                 4\n",
       "utilidades_domesticas                 4\n",
       "utilidades_domesticas                 5\n",
       "utilidades_domesticas                 5\n",
       "\n",
       "[97250 rows x 1 columns]"
      ]
     },
     "execution_count": 97,
     "metadata": {},
     "output_type": "execute_result"
    }
   ],
   "source": [
    "# Sort data by category\n",
    "dfcat = df[['product_category_name', 'review_score']]\n",
    "dfcat = dfcat.set_index('product_category_name')\n",
    "dfcat.sort_values(by='product_category_name')"
   ]
  },
  {
   "cell_type": "code",
   "execution_count": 103,
   "id": "sweet-therapist",
   "metadata": {},
   "outputs": [
    {
     "data": {
      "text/plain": [
       "product_category_name\n",
       "agro_industria_e_comercio     182\n",
       "alimentos                     444\n",
       "alimentos_bebidas             224\n",
       "artes                         198\n",
       "artes_e_artesanato             22\n",
       "                             ... \n",
       "sinalizacao_e_seguranca       140\n",
       "tablets_impressao_imagem       77\n",
       "telefonia                    4182\n",
       "telefonia_fixa                217\n",
       "utilidades_domesticas        5829\n",
       "Length: 73, dtype: int64"
      ]
     },
     "execution_count": 103,
     "metadata": {},
     "output_type": "execute_result"
    }
   ],
   "source": [
    "dfcat.groupby(['product_category_name']).size()"
   ]
  },
  {
   "cell_type": "markdown",
   "id": "communist-discount",
   "metadata": {},
   "source": [
    "Sort data by category, including the number of items on the side"
   ]
  },
  {
   "cell_type": "code",
   "execution_count": 106,
   "id": "fifth-smell",
   "metadata": {},
   "outputs": [
    {
     "data": {
      "text/html": [
       "<div>\n",
       "<style scoped>\n",
       "    .dataframe tbody tr th:only-of-type {\n",
       "        vertical-align: middle;\n",
       "    }\n",
       "\n",
       "    .dataframe tbody tr th {\n",
       "        vertical-align: top;\n",
       "    }\n",
       "\n",
       "    .dataframe thead th {\n",
       "        text-align: right;\n",
       "    }\n",
       "</style>\n",
       "<table border=\"1\" class=\"dataframe\">\n",
       "  <thead>\n",
       "    <tr style=\"text-align: right;\">\n",
       "      <th></th>\n",
       "      <th>review_score</th>\n",
       "    </tr>\n",
       "    <tr>\n",
       "      <th>product_category_name</th>\n",
       "      <th></th>\n",
       "    </tr>\n",
       "  </thead>\n",
       "  <tbody>\n",
       "    <tr>\n",
       "      <th>agro_industria_e_comercio</th>\n",
       "      <td>4.021978</td>\n",
       "    </tr>\n",
       "    <tr>\n",
       "      <th>alimentos</th>\n",
       "      <td>4.247748</td>\n",
       "    </tr>\n",
       "    <tr>\n",
       "      <th>alimentos_bebidas</th>\n",
       "      <td>4.366071</td>\n",
       "    </tr>\n",
       "    <tr>\n",
       "      <th>artes</th>\n",
       "      <td>4.030303</td>\n",
       "    </tr>\n",
       "    <tr>\n",
       "      <th>artes_e_artesanato</th>\n",
       "      <td>4.136364</td>\n",
       "    </tr>\n",
       "  </tbody>\n",
       "</table>\n",
       "</div>"
      ],
      "text/plain": [
       "                           review_score\n",
       "product_category_name                  \n",
       "agro_industria_e_comercio      4.021978\n",
       "alimentos                      4.247748\n",
       "alimentos_bebidas              4.366071\n",
       "artes                          4.030303\n",
       "artes_e_artesanato             4.136364"
      ]
     },
     "execution_count": 106,
     "metadata": {},
     "output_type": "execute_result"
    }
   ],
   "source": [
    "# Calculate the average review score for each category\n",
    "avgscore = dfcat.groupby(['product_category_name']).mean()\n",
    "\n",
    "avgscore.head()"
   ]
  },
  {
   "cell_type": "code",
   "execution_count": 107,
   "id": "literary-webmaster",
   "metadata": {},
   "outputs": [
    {
     "data": {
      "text/html": [
       "<div>\n",
       "<style scoped>\n",
       "    .dataframe tbody tr th:only-of-type {\n",
       "        vertical-align: middle;\n",
       "    }\n",
       "\n",
       "    .dataframe tbody tr th {\n",
       "        vertical-align: top;\n",
       "    }\n",
       "\n",
       "    .dataframe thead th {\n",
       "        text-align: right;\n",
       "    }\n",
       "</style>\n",
       "<table border=\"1\" class=\"dataframe\">\n",
       "  <thead>\n",
       "    <tr style=\"text-align: right;\">\n",
       "      <th></th>\n",
       "      <th>review_score</th>\n",
       "    </tr>\n",
       "    <tr>\n",
       "      <th>product_category_name</th>\n",
       "      <th></th>\n",
       "    </tr>\n",
       "  </thead>\n",
       "  <tbody>\n",
       "    <tr>\n",
       "      <th>cds_dvds_musicais</th>\n",
       "      <td>4.666667</td>\n",
       "    </tr>\n",
       "    <tr>\n",
       "      <th>fashion_roupa_infanto_juvenil</th>\n",
       "      <td>4.500000</td>\n",
       "    </tr>\n",
       "    <tr>\n",
       "      <th>livros_interesse_geral</th>\n",
       "      <td>4.459725</td>\n",
       "    </tr>\n",
       "    <tr>\n",
       "      <th>fashion_esporte</th>\n",
       "      <td>4.400000</td>\n",
       "    </tr>\n",
       "    <tr>\n",
       "      <th>livros_importados</th>\n",
       "      <td>4.384615</td>\n",
       "    </tr>\n",
       "    <tr>\n",
       "      <th>...</th>\n",
       "      <td>...</td>\n",
       "    </tr>\n",
       "    <tr>\n",
       "      <th>fashion_roupa_masculina</th>\n",
       "      <td>3.678571</td>\n",
       "    </tr>\n",
       "    <tr>\n",
       "      <th>moveis_escritorio</th>\n",
       "      <td>3.615810</td>\n",
       "    </tr>\n",
       "    <tr>\n",
       "      <th>portateis_cozinha_e_preparadores_de_alimentos</th>\n",
       "      <td>3.428571</td>\n",
       "    </tr>\n",
       "    <tr>\n",
       "      <th>pc_gamer</th>\n",
       "      <td>3.428571</td>\n",
       "    </tr>\n",
       "    <tr>\n",
       "      <th>seguros_e_servicos</th>\n",
       "      <td>2.500000</td>\n",
       "    </tr>\n",
       "  </tbody>\n",
       "</table>\n",
       "<p>73 rows × 1 columns</p>\n",
       "</div>"
      ],
      "text/plain": [
       "                                               review_score\n",
       "product_category_name                                      \n",
       "cds_dvds_musicais                                  4.666667\n",
       "fashion_roupa_infanto_juvenil                      4.500000\n",
       "livros_interesse_geral                             4.459725\n",
       "fashion_esporte                                    4.400000\n",
       "livros_importados                                  4.384615\n",
       "...                                                     ...\n",
       "fashion_roupa_masculina                            3.678571\n",
       "moveis_escritorio                                  3.615810\n",
       "portateis_cozinha_e_preparadores_de_alimentos      3.428571\n",
       "pc_gamer                                           3.428571\n",
       "seguros_e_servicos                                 2.500000\n",
       "\n",
       "[73 rows x 1 columns]"
      ]
     },
     "execution_count": 107,
     "metadata": {},
     "output_type": "execute_result"
    }
   ],
   "source": [
    "# Sort according to highest average review score to lowest average review score\n",
    "avgscore = avgscore.sort_values(by='review_score', ascending=False)\n",
    "avgscore"
   ]
  },
  {
   "cell_type": "code",
   "execution_count": 108,
   "id": "saved-substance",
   "metadata": {},
   "outputs": [
    {
     "name": "stdout",
     "output_type": "stream",
     "text": [
      "Highest average review_score    4.666667\n",
      "Name: cds_dvds_musicais, dtype: float64\n",
      "\n",
      "Lowest average review_score    2.5\n",
      "Name: seguros_e_servicos, dtype: float64\n"
     ]
    }
   ],
   "source": [
    "print(\"Highest average\", avgscore.iloc[0])\n",
    "print()\n",
    "print(\"Lowest average\", avgscore.iloc[-1])"
   ]
  },
  {
   "cell_type": "markdown",
   "id": "viral-consistency",
   "metadata": {},
   "source": [
    "According to Google Translate, these are \"CDs, DVDs, Musicals\" and \"Insurances & Services\" respectively."
   ]
  },
  {
   "cell_type": "markdown",
   "id": "reliable-strap",
   "metadata": {},
   "source": [
    "# See which category has the most quantity sold"
   ]
  },
  {
   "cell_type": "code",
   "execution_count": 111,
   "id": "tight-discovery",
   "metadata": {},
   "outputs": [
    {
     "data": {
      "text/plain": [
       "product_category_name\n",
       "cama_mesa_banho                  9311\n",
       "beleza_saude                     8796\n",
       "esporte_lazer                    7681\n",
       "informatica_acessorios           6660\n",
       "moveis_decoracao                 6355\n",
       "                                 ... \n",
       "la_cuisine                         12\n",
       "cds_dvds_musicais                  12\n",
       "fashion_roupa_infanto_juvenil       8\n",
       "pc_gamer                            7\n",
       "seguros_e_servicos                  2\n",
       "Length: 73, dtype: int64"
      ]
     },
     "execution_count": 111,
     "metadata": {},
     "output_type": "execute_result"
    }
   ],
   "source": [
    "quantity = dfcat.groupby(['product_category_name']).size().sort_values(ascending=False)\n",
    "quantity"
   ]
  },
  {
   "cell_type": "markdown",
   "id": "optional-skiing",
   "metadata": {},
   "source": [
    "According to Google Translate, the category that has the most items sold is \"Bedding, Duvet & Towel Sets\", and the one with least items sold is \"Insurances & Services\", which means that the average review score for that is not accurate as the N value is not comparable to the other category"
   ]
  },
  {
   "cell_type": "markdown",
   "id": "cubic-bristol",
   "metadata": {},
   "source": [
    "# See which category has the highest profits"
   ]
  },
  {
   "cell_type": "code",
   "execution_count": 113,
   "id": "guilty-weekly",
   "metadata": {
    "scrolled": true
   },
   "outputs": [
    {
     "data": {
      "text/html": [
       "<div>\n",
       "<style scoped>\n",
       "    .dataframe tbody tr th:only-of-type {\n",
       "        vertical-align: middle;\n",
       "    }\n",
       "\n",
       "    .dataframe tbody tr th {\n",
       "        vertical-align: top;\n",
       "    }\n",
       "\n",
       "    .dataframe thead th {\n",
       "        text-align: right;\n",
       "    }\n",
       "</style>\n",
       "<table border=\"1\" class=\"dataframe\">\n",
       "  <thead>\n",
       "    <tr style=\"text-align: right;\">\n",
       "      <th></th>\n",
       "      <th>price</th>\n",
       "    </tr>\n",
       "    <tr>\n",
       "      <th>product_category_name</th>\n",
       "      <th></th>\n",
       "    </tr>\n",
       "  </thead>\n",
       "  <tbody>\n",
       "    <tr>\n",
       "      <th>agro_industria_e_comercio</th>\n",
       "      <td>412.00</td>\n",
       "    </tr>\n",
       "    <tr>\n",
       "      <th>agro_industria_e_comercio</th>\n",
       "      <td>410.00</td>\n",
       "    </tr>\n",
       "    <tr>\n",
       "      <th>agro_industria_e_comercio</th>\n",
       "      <td>469.00</td>\n",
       "    </tr>\n",
       "    <tr>\n",
       "      <th>agro_industria_e_comercio</th>\n",
       "      <td>425.00</td>\n",
       "    </tr>\n",
       "    <tr>\n",
       "      <th>agro_industria_e_comercio</th>\n",
       "      <td>429.98</td>\n",
       "    </tr>\n",
       "    <tr>\n",
       "      <th>...</th>\n",
       "      <td>...</td>\n",
       "    </tr>\n",
       "    <tr>\n",
       "      <th>utilidades_domesticas</th>\n",
       "      <td>164.90</td>\n",
       "    </tr>\n",
       "    <tr>\n",
       "      <th>utilidades_domesticas</th>\n",
       "      <td>32.00</td>\n",
       "    </tr>\n",
       "    <tr>\n",
       "      <th>utilidades_domesticas</th>\n",
       "      <td>120.00</td>\n",
       "    </tr>\n",
       "    <tr>\n",
       "      <th>utilidades_domesticas</th>\n",
       "      <td>35.00</td>\n",
       "    </tr>\n",
       "    <tr>\n",
       "      <th>utilidades_domesticas</th>\n",
       "      <td>78.00</td>\n",
       "    </tr>\n",
       "  </tbody>\n",
       "</table>\n",
       "<p>97250 rows × 1 columns</p>\n",
       "</div>"
      ],
      "text/plain": [
       "                            price\n",
       "product_category_name            \n",
       "agro_industria_e_comercio  412.00\n",
       "agro_industria_e_comercio  410.00\n",
       "agro_industria_e_comercio  469.00\n",
       "agro_industria_e_comercio  425.00\n",
       "agro_industria_e_comercio  429.98\n",
       "...                           ...\n",
       "utilidades_domesticas      164.90\n",
       "utilidades_domesticas       32.00\n",
       "utilidades_domesticas      120.00\n",
       "utilidades_domesticas       35.00\n",
       "utilidades_domesticas       78.00\n",
       "\n",
       "[97250 rows x 1 columns]"
      ]
     },
     "execution_count": 113,
     "metadata": {},
     "output_type": "execute_result"
    }
   ],
   "source": [
    "# Sort data by Category\n",
    "dfprofit = df[['product_category_name', 'price']]\n",
    "dfprofit = dfprofit.set_index('product_category_name')\n",
    "dfprofit.sort_values(by='product_category_name')"
   ]
  },
  {
   "cell_type": "code",
   "execution_count": 154,
   "id": "moved-wheat",
   "metadata": {},
   "outputs": [
    {
     "data": {
      "text/html": [
       "<div>\n",
       "<style scoped>\n",
       "    .dataframe tbody tr th:only-of-type {\n",
       "        vertical-align: middle;\n",
       "    }\n",
       "\n",
       "    .dataframe tbody tr th {\n",
       "        vertical-align: top;\n",
       "    }\n",
       "\n",
       "    .dataframe thead th {\n",
       "        text-align: right;\n",
       "    }\n",
       "</style>\n",
       "<table border=\"1\" class=\"dataframe\">\n",
       "  <thead>\n",
       "    <tr style=\"text-align: right;\">\n",
       "      <th></th>\n",
       "      <th>price</th>\n",
       "    </tr>\n",
       "    <tr>\n",
       "      <th>product_category_name</th>\n",
       "      <th></th>\n",
       "    </tr>\n",
       "  </thead>\n",
       "  <tbody>\n",
       "    <tr>\n",
       "      <th>pcs</th>\n",
       "      <td>1140.078778</td>\n",
       "    </tr>\n",
       "    <tr>\n",
       "      <th>portateis_casa_forno_e_cafe</th>\n",
       "      <td>624.676133</td>\n",
       "    </tr>\n",
       "    <tr>\n",
       "      <th>eletrodomesticos_2</th>\n",
       "      <td>484.699399</td>\n",
       "    </tr>\n",
       "    <tr>\n",
       "      <th>agro_industria_e_comercio</th>\n",
       "      <td>351.844396</td>\n",
       "    </tr>\n",
       "    <tr>\n",
       "      <th>instrumentos_musicais</th>\n",
       "      <td>296.541891</td>\n",
       "    </tr>\n",
       "    <tr>\n",
       "      <th>...</th>\n",
       "      <td>...</td>\n",
       "    </tr>\n",
       "    <tr>\n",
       "      <th>bebidas</th>\n",
       "      <td>57.709116</td>\n",
       "    </tr>\n",
       "    <tr>\n",
       "      <th>cds_dvds_musicais</th>\n",
       "      <td>53.333333</td>\n",
       "    </tr>\n",
       "    <tr>\n",
       "      <th>fraldas_higiene</th>\n",
       "      <td>46.466296</td>\n",
       "    </tr>\n",
       "    <tr>\n",
       "      <th>flores</th>\n",
       "      <td>33.204828</td>\n",
       "    </tr>\n",
       "    <tr>\n",
       "      <th>casa_conforto_2</th>\n",
       "      <td>29.866818</td>\n",
       "    </tr>\n",
       "  </tbody>\n",
       "</table>\n",
       "<p>73 rows × 1 columns</p>\n",
       "</div>"
      ],
      "text/plain": [
       "                                   price\n",
       "product_category_name                   \n",
       "pcs                          1140.078778\n",
       "portateis_casa_forno_e_cafe   624.676133\n",
       "eletrodomesticos_2            484.699399\n",
       "agro_industria_e_comercio     351.844396\n",
       "instrumentos_musicais         296.541891\n",
       "...                                  ...\n",
       "bebidas                        57.709116\n",
       "cds_dvds_musicais              53.333333\n",
       "fraldas_higiene                46.466296\n",
       "flores                         33.204828\n",
       "casa_conforto_2                29.866818\n",
       "\n",
       "[73 rows x 1 columns]"
      ]
     },
     "execution_count": 154,
     "metadata": {},
     "output_type": "execute_result"
    }
   ],
   "source": [
    "dfprofitaverage = dfprofit.groupby(['product_category_name']).mean('price')\n",
    "dfprofitaverage.sort_values(by='price', ascending=False)"
   ]
  },
  {
   "cell_type": "markdown",
   "id": "stainless-texas",
   "metadata": {},
   "source": [
    "The category that has the highest profits is PCs, while the category that has the lowest profits is from hotel bookings."
   ]
  }
 ],
 "metadata": {
  "kernelspec": {
   "display_name": "Python 3",
   "language": "python",
   "name": "python3"
  },
  "language_info": {
   "codemirror_mode": {
    "name": "ipython",
    "version": 3
   },
   "file_extension": ".py",
   "mimetype": "text/x-python",
   "name": "python",
   "nbconvert_exporter": "python",
   "pygments_lexer": "ipython3",
   "version": "3.8.5"
  }
 },
 "nbformat": 4,
 "nbformat_minor": 5
}
